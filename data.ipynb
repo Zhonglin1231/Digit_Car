{
 "cells": [
  {
   "cell_type": "code",
   "execution_count": null,
   "metadata": {},
   "outputs": [],
   "source": [
    "file_paths= ['data\\\\01\\\\pyear=2023\\\\pstat=other\\\\part-00000-c89b4b15-b2a9-4d8b-a9eb-c4312ec684f7.c000',\n",
    "            'data\\\\02\\\\pyear=2023\\\\pstat=other\\\\part-00000-c89b4b15-b2a9-4d8b-a9eb-c4312ec684f7.c000',\n",
    "            'data\\\\03\\\\pyear=2023\\\\pstat=other\\\\part-00000-c89b4b15-b2a9-4d8b-a9eb-c4312ec684f7.c000',\n",
    "            'data\\\\04\\\\pyear=2023\\\\pstat=other\\\\part-00000-c89b4b15-b2a9-4d8b-a9eb-c4312ec684f7.c000',\n",
    "            'data\\\\05\\\\pyear=2023\\\\pstat=other\\\\part-00000-c89b4b15-b2a9-4d8b-a9eb-c4312ec684f7.csv',\n",
    "            'data\\\\06\\\\pyear=2023\\\\pstat=other\\\\part-00000-c89b4b15-b2a9-4d8b-a9eb-c4312ec684f7.c000',\n",
    "            'data\\\\07\\\\pyear=2023\\\\pstat=other\\\\part-00000-c89b4b15-b2a9-4d8b-a9eb-c4312ec684f7.c000',\n",
    "            'data\\\\08\\\\pyear=2023\\\\pstat=other\\\\part-00000-c89b4b15-b2a9-4d8b-a9eb-c4312ec684f7.c000',\n",
    "            'data\\\\10\\\\pyear=2023\\\\pstat=other\\\\part-00000-c89b4b15-b2a9-4d8b-a9eb-c4312ec684f7.c000']\n",
    "\n",
    "file_paths2= ['data\\\\01\\\\pyear=2024\\\\pstat=charge\\\\part-00000-c89b4b15-b2a9-4d8b-a9eb-c4312ec684f7.c000',\n",
    "            'data\\\\02\\\\pyear=2024\\\\pstat=charge\\\\part-00000-c89b4b15-b2a9-4d8b-a9eb-c4312ec684f7.c000',\n",
    "            'data\\\\03\\\\pyear=2024\\\\pstat=charge\\\\part-00000-c89b4b15-b2a9-4d8b-a9eb-c4312ec684f7.c000',\n",
    "            'data\\\\04\\\\pyear=2024\\\\pstat=charge\\\\part-00000-c89b4b15-b2a9-4d8b-a9eb-c4312ec684f7.c000',\n",
    "            'data\\\\05\\\\pyear=2024\\\\pstat=charge\\\\part-00000-c89b4b15-b2a9-4d8b-a9eb-c4312ec684f7.c000',\n",
    "            'data\\\\06\\\\pyear=2024\\\\pstat=charge\\\\part-00000-c89b4b15-b2a9-4d8b-a9eb-c4312ec684f7.c000',\n",
    "            'data\\\\07\\\\pyear=2024\\\\pstat=charge\\\\part-00000-c89b4b15-b2a9-4d8b-a9eb-c4312ec684f7.c000',\n",
    "            'data\\\\08\\\\pyear=2024\\\\pstat=charge\\\\part-00000-c89b4b15-b2a9-4d8b-a9eb-c4312ec684f7.c000',\n",
    "            'data\\\\10\\\\pyear=2024\\\\pstat=charge\\\\part-00000-c89b4b15-b2a9-4d8b-a9eb-c4312ec684f7.c000']\n",
    "\n",
    "data_array = []\n",
    "data_array2 = []\n",
    "\n",
    "for file_path in file_paths:\n",
    "    with open(file_path, 'r',encoding='UTF-8') as file:\n",
    "        \n",
    "        for line in file:\n",
    "            \n",
    "            line_array = line.strip().split(',')\n",
    "            \n",
    "            data_array.append(line_array)\n",
    "\n",
    "for file_path in file_paths2:\n",
    "    with open(file_path, 'r',encoding='UTF-8') as file:\n",
    "        \n",
    "        for line in file:\n",
    "            \n",
    "            line_array = line.strip().split(',')\n",
    "            \n",
    "            data_array2.append(line_array)\n",
    "        "
   ]
  },
  {
   "cell_type": "code",
   "execution_count": null,
   "metadata": {},
   "outputs": [],
   "source": [
    "#test\n",
    "# print(len(data_array))\n",
    "# print(len(data_array[10000]))\n",
    "    "
   ]
  },
  {
   "cell_type": "code",
   "execution_count": null,
   "metadata": {},
   "outputs": [],
   "source": [
    "import numpy as np\n",
    "import pandas as pd\n",
    "import matplotlib.pyplot as plt\n",
    "\n",
    "\n",
    "df = pd.DataFrame(data_array, columns=['vid','daq_time','status','c_stat','mode',\n",
    "                                       'speed','mileage','t_volt','t_current','soc',\n",
    "                                       'dcdc_stat','isulate_r','ap_stroke','bp_stroke','gear',\n",
    "                                       'brake_stat','power_stat','district','city','province',\n",
    "                                       'max_volt_bat_id','max_volt_cell_id','max_cell_volt','min_volt_bat_id','min_cell_volt_id',\n",
    "                                       'min_cell_volt','max_temp_sys_id','max_temp_probe_id','max_temp','min_temp_sys_id',\n",
    "                                       'min_temp_probe_id','min_temp','max_alarm_lvl','genral_alarm','motor_nu'])\n",
    "                                        \n",
    "\n",
    "df2 = pd.DataFrame(data_array2, columns=['vid','daq_time','status','c_stat','mode',\n",
    "                                        'speed','mileage','t_volt','t_current','soc',\n",
    "                                        'dcdc_stat','isulate_r','ap_stroke','bp_stroke','gear',\n",
    "                                        'brake_stat','power_stat','district','city','province',\n",
    "                                        'max_volt_bat_id','max_volt_cell_id','max_cell_volt','min_volt_bat_id','min_cell_volt_id',\n",
    "                                        'min_cell_volt','max_temp_sys_id','max_temp_probe_id','max_temp','min_temp_sys_id',\n",
    "                                        'min_temp_probe_id','min_temp','max_alarm_lvl','genral_alarm','motor_nu'])\n",
    "df.head()\n",
    "df.info()\n",
    "\n",
    "\n",
    "\n",
    "\n",
    "\n",
    "\n"
   ]
  },
  {
   "cell_type": "code",
   "execution_count": null,
   "metadata": {},
   "outputs": [],
   "source": [
    "# for i in range(len(df.columns)):\n",
    "#     print(i+1)\n",
    "#     print((df[i]=='0').sum())\n",
    "#     print((df[i]=='').sum())\n",
    "\n"
   ]
  },
  {
   "cell_type": "code",
   "execution_count": null,
   "metadata": {},
   "outputs": [],
   "source": [
    "# print(df[21].value_counts())\n",
    "\n",
    "# print(df[21].isnull().sum())\n",
    "\n",
    "# row_i = df.iloc[415704].values\n",
    "# print(row_i)"
   ]
  },
  {
   "cell_type": "code",
   "execution_count": null,
   "metadata": {},
   "outputs": [],
   "source": [
    "df.replace(['', 'None', 'N/A'], np.nan, inplace=True)\n",
    "df=df.dropna()\n",
    "df.info()\n",
    "\n",
    "\n"
   ]
  },
  {
   "cell_type": "code",
   "execution_count": null,
   "metadata": {},
   "outputs": [],
   "source": [
    "# df[30].value_counts()\n",
    "\n",
    "df['isulate_r'].astype('int64').max()\n",
    "\n",
    "# df[df[24].astype('int64')>15000]\n"
   ]
  },
  {
   "cell_type": "code",
   "execution_count": null,
   "metadata": {},
   "outputs": [],
   "source": [
    "df = df.sort_values(by=['vid','daq_time'])  \n",
    "df = df.reset_index(drop=True) #reset index while not remaining original index as a column\n",
    "df.info()\n",
    "df2=df2.sort_values(by=['vid','daq_time'])\n",
    "df2 = df2.reset_index(drop=True)\n",
    "\n",
    "\n",
    "\n"
   ]
  },
  {
   "cell_type": "code",
   "execution_count": null,
   "metadata": {},
   "outputs": [],
   "source": [
    "for i in range (20000):\n",
    "    row_i = df.iloc[i].values\n",
    "    print(row_i)\n",
    "# for i in range (1000,1200):\n",
    "#     row_i = df2.iloc[i].values\n",
    "#     print(row_i[1:])"
   ]
  }
 ],
 "metadata": {
  "kernelspec": {
   "display_name": "mypython",
   "language": "python",
   "name": "python3"
  },
  "language_info": {
   "codemirror_mode": {
    "name": "ipython",
    "version": 3
   },
   "file_extension": ".py",
   "mimetype": "text/x-python",
   "name": "python",
   "nbconvert_exporter": "python",
   "pygments_lexer": "ipython3",
   "version": "3.12.3"
  }
 },
 "nbformat": 4,
 "nbformat_minor": 2
}
