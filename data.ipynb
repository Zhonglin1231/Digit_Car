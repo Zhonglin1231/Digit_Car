{
 "cells": [
  {
   "cell_type": "code",
   "execution_count": 99,
   "metadata": {},
   "outputs": [],
   "source": [
    "file_paths= ['data\\\\01\\\\pyear=2023\\\\pstat=other\\\\part-00000-c89b4b15-b2a9-4d8b-a9eb-c4312ec684f7.c000',\n",
    "            'data\\\\02\\\\pyear=2023\\\\pstat=other\\\\part-00000-c89b4b15-b2a9-4d8b-a9eb-c4312ec684f7.c000',\n",
    "            'data\\\\03\\\\pyear=2023\\\\pstat=other\\\\part-00000-c89b4b15-b2a9-4d8b-a9eb-c4312ec684f7.c000',\n",
    "            'data\\\\04\\\\pyear=2023\\\\pstat=other\\\\part-00000-c89b4b15-b2a9-4d8b-a9eb-c4312ec684f7.c000',\n",
    "            'data\\\\05\\\\pyear=2023\\\\pstat=other\\\\part-00000-c89b4b15-b2a9-4d8b-a9eb-c4312ec684f7.csv',\n",
    "            'data\\\\06\\\\pyear=2023\\\\pstat=other\\\\part-00000-c89b4b15-b2a9-4d8b-a9eb-c4312ec684f7.c000',\n",
    "            'data\\\\07\\\\pyear=2023\\\\pstat=other\\\\part-00000-c89b4b15-b2a9-4d8b-a9eb-c4312ec684f7.c000',\n",
    "            'data\\\\08\\\\pyear=2023\\\\pstat=other\\\\part-00000-c89b4b15-b2a9-4d8b-a9eb-c4312ec684f7.c000',\n",
    "            'data\\\\10\\\\pyear=2023\\\\pstat=other\\\\part-00000-c89b4b15-b2a9-4d8b-a9eb-c4312ec684f7.c000']\n",
    "\n",
    "file_paths2= ['data\\\\01\\\\pyear=2024\\\\pstat=charge\\\\part-00000-c89b4b15-b2a9-4d8b-a9eb-c4312ec684f7.c000',\n",
    "            'data\\\\02\\\\pyear=2024\\\\pstat=charge\\\\part-00000-c89b4b15-b2a9-4d8b-a9eb-c4312ec684f7.c000',\n",
    "            'data\\\\03\\\\pyear=2024\\\\pstat=charge\\\\part-00000-c89b4b15-b2a9-4d8b-a9eb-c4312ec684f7.c000',\n",
    "            'data\\\\04\\\\pyear=2024\\\\pstat=charge\\\\part-00000-c89b4b15-b2a9-4d8b-a9eb-c4312ec684f7.c000',\n",
    "            'data\\\\05\\\\pyear=2024\\\\pstat=charge\\\\part-00000-c89b4b15-b2a9-4d8b-a9eb-c4312ec684f7.c000',\n",
    "            'data\\\\06\\\\pyear=2024\\\\pstat=charge\\\\part-00000-c89b4b15-b2a9-4d8b-a9eb-c4312ec684f7.c000',\n",
    "            'data\\\\07\\\\pyear=2024\\\\pstat=charge\\\\part-00000-c89b4b15-b2a9-4d8b-a9eb-c4312ec684f7.c000',\n",
    "            'data\\\\08\\\\pyear=2024\\\\pstat=charge\\\\part-00000-c89b4b15-b2a9-4d8b-a9eb-c4312ec684f7.c000',\n",
    "            'data\\\\10\\\\pyear=2024\\\\pstat=charge\\\\part-00000-c89b4b15-b2a9-4d8b-a9eb-c4312ec684f7.c000']\n",
    "\n",
    "data_array = []\n",
    "data_array2 = []\n",
    "\n",
    "for file_path in file_paths:\n",
    "    with open(file_path, 'r',encoding='UTF-8') as file:\n",
    "        \n",
    "        for line in file:\n",
    "            \n",
    "            line_array = line.strip().split(',')\n",
    "            \n",
    "            data_array.append(line_array)\n",
    "\n",
    "for file_path in file_paths2:\n",
    "    with open(file_path, 'r',encoding='UTF-8') as file:\n",
    "        \n",
    "        for line in file:\n",
    "            \n",
    "            line_array = line.strip().split(',')\n",
    "            \n",
    "            data_array2.append(line_array)\n",
    "        "
   ]
  },
  {
   "cell_type": "code",
   "execution_count": 100,
   "metadata": {},
   "outputs": [],
   "source": [
    "#test\n",
    "# print(len(data_array))\n",
    "# print(len(data_array[10000]))\n",
    "    "
   ]
  },
  {
   "cell_type": "code",
   "execution_count": 101,
   "metadata": {},
   "outputs": [
    {
     "name": "stdout",
     "output_type": "stream",
     "text": [
      "<class 'pandas.core.frame.DataFrame'>\n",
      "RangeIndex: 2354747 entries, 0 to 2354746\n",
      "Data columns (total 35 columns):\n",
      " #   Column             Dtype \n",
      "---  ------             ----- \n",
      " 0   vid                object\n",
      " 1   daq_time           object\n",
      " 2   status             object\n",
      " 3   c_stat             object\n",
      " 4   mode               object\n",
      " 5   speed              object\n",
      " 6   mileage            object\n",
      " 7   t_volt             object\n",
      " 8   t_current          object\n",
      " 9   soc                object\n",
      " 10  dcdc_stat          object\n",
      " 11  isulate_r          object\n",
      " 12  ap_stroke          object\n",
      " 13  bp_stroke          object\n",
      " 14  gear               object\n",
      " 15  brake_stat         object\n",
      " 16  power_stat         object\n",
      " 17  district           object\n",
      " 18  city               object\n",
      " 19  province           object\n",
      " 20  max_volt_bat_id    object\n",
      " 21  max_volt_cell_id   object\n",
      " 22  max_cell_volt      object\n",
      " 23  min_volt_bat_id    object\n",
      " 24  min_cell_volt_id   object\n",
      " 25  min_cell_volt      object\n",
      " 26  max_temp_sys_id    object\n",
      " 27  max_temp_probe_id  object\n",
      " 28  max_temp           object\n",
      " 29  min_temp_sys_id    object\n",
      " 30  min_temp_probe_id  object\n",
      " 31  min_temp           object\n",
      " 32  max_alarm_lvl      object\n",
      " 33  genral_alarm       object\n",
      " 34  motor_nu           object\n",
      "dtypes: object(35)\n",
      "memory usage: 628.8+ MB\n"
     ]
    }
   ],
   "source": [
    "import numpy as np\n",
    "import pandas as pd\n",
    "import matplotlib.pyplot as plt\n",
    "\n",
    "\n",
    "df_notcleaned = pd.DataFrame(data_array, columns=['vid','daq_time','status','c_stat','mode',\n",
    "                                       'speed','mileage','t_volt','t_current','soc',\n",
    "                                       'dcdc_stat','isulate_r','ap_stroke','bp_stroke','gear',\n",
    "                                       'brake_stat','power_stat','district','city','province',\n",
    "                                       'max_volt_bat_id','max_volt_cell_id','max_cell_volt','min_volt_bat_id','min_cell_volt_id',\n",
    "                                       'min_cell_volt','max_temp_sys_id','max_temp_probe_id','max_temp','min_temp_sys_id',\n",
    "                                       'min_temp_probe_id','min_temp','max_alarm_lvl','genral_alarm','motor_nu'])\n",
    "                                        \n",
    "\n",
    "df2_notcleaned = pd.DataFrame(data_array2, columns=['vid','daq_time','status','c_stat','mode',\n",
    "                                        'speed','mileage','t_volt','t_current','soc',\n",
    "                                        'dcdc_stat','isulate_r','ap_stroke','bp_stroke','gear',\n",
    "                                        'brake_stat','power_stat','district','city','province',\n",
    "                                        'max_volt_bat_id','max_volt_cell_id','max_cell_volt','min_volt_bat_id','min_cell_volt_id',\n",
    "                                        'min_cell_volt','max_temp_sys_id','max_temp_probe_id','max_temp','min_temp_sys_id',\n",
    "                                        'min_temp_probe_id','min_temp','max_alarm_lvl','genral_alarm','motor_nu'])\n",
    "df_notcleaned.head()\n",
    "df_notcleaned.info()\n",
    "# df_notcleaned.describe()\n",
    "# df2_notcleaned.head()\n",
    "# df2_notcleaned.info()\n",
    "\n",
    "\n",
    "\n",
    "\n",
    "\n"
   ]
  },
  {
   "cell_type": "code",
   "execution_count": 102,
   "metadata": {},
   "outputs": [],
   "source": [
    "# for i in range(len(df.columns)):\n",
    "#     print(i+1)\n",
    "#     print((df[i]=='0').sum())\n",
    "#     print((df[i]=='').sum())\n",
    "\n"
   ]
  },
  {
   "cell_type": "code",
   "execution_count": 103,
   "metadata": {},
   "outputs": [],
   "source": [
    "# print(df[21].value_counts())\n",
    "\n",
    "# print(df[21].isnull().sum())\n",
    "\n",
    "# row_i = df.iloc[415704].values\n",
    "# print(row_i)"
   ]
  },
  {
   "cell_type": "code",
   "execution_count": 104,
   "metadata": {},
   "outputs": [
    {
     "name": "stdout",
     "output_type": "stream",
     "text": [
      "<class 'pandas.core.frame.DataFrame'>\n",
      "Index: 2016744 entries, 0 to 2354746\n",
      "Data columns (total 35 columns):\n",
      " #   Column             Dtype \n",
      "---  ------             ----- \n",
      " 0   vid                object\n",
      " 1   daq_time           object\n",
      " 2   status             object\n",
      " 3   c_stat             object\n",
      " 4   mode               object\n",
      " 5   speed              object\n",
      " 6   mileage            object\n",
      " 7   t_volt             object\n",
      " 8   t_current          object\n",
      " 9   soc                object\n",
      " 10  dcdc_stat          object\n",
      " 11  isulate_r          object\n",
      " 12  ap_stroke          object\n",
      " 13  bp_stroke          object\n",
      " 14  gear               object\n",
      " 15  brake_stat         object\n",
      " 16  power_stat         object\n",
      " 17  district           object\n",
      " 18  city               object\n",
      " 19  province           object\n",
      " 20  max_volt_bat_id    object\n",
      " 21  max_volt_cell_id   object\n",
      " 22  max_cell_volt      object\n",
      " 23  min_volt_bat_id    object\n",
      " 24  min_cell_volt_id   object\n",
      " 25  min_cell_volt      object\n",
      " 26  max_temp_sys_id    object\n",
      " 27  max_temp_probe_id  object\n",
      " 28  max_temp           object\n",
      " 29  min_temp_sys_id    object\n",
      " 30  min_temp_probe_id  object\n",
      " 31  min_temp           object\n",
      " 32  max_alarm_lvl      object\n",
      " 33  genral_alarm       object\n",
      " 34  motor_nu           object\n",
      "dtypes: object(35)\n",
      "memory usage: 553.9+ MB\n"
     ]
    }
   ],
   "source": [
    "df_notcleaned.replace(['', 'None', 'N/A'], np.nan, inplace=True)\n",
    "df_cleaned=df_notcleaned.dropna()\n",
    "df_cleaned.info()\n"
   ]
  },
  {
   "cell_type": "code",
   "execution_count": 114,
   "metadata": {},
   "outputs": [
    {
     "data": {
      "text/plain": [
       "50499"
      ]
     },
     "execution_count": 114,
     "metadata": {},
     "output_type": "execute_result"
    }
   ],
   "source": [
    "# df_cleaned[30].value_counts()\n",
    "\n",
    "df_cleaned['isulate_r'].astype('int64').max()\n",
    "\n",
    "# df_cleaned[df_cleaned[24].astype('int64')>15000]\n"
   ]
  },
  {
   "cell_type": "code",
   "execution_count": 106,
   "metadata": {},
   "outputs": [
    {
     "name": "stdout",
     "output_type": "stream",
     "text": [
      "<class 'pandas.core.frame.DataFrame'>\n",
      "RangeIndex: 2016744 entries, 0 to 2016743\n",
      "Data columns (total 35 columns):\n",
      " #   Column             Dtype \n",
      "---  ------             ----- \n",
      " 0   vid                object\n",
      " 1   daq_time           object\n",
      " 2   status             object\n",
      " 3   c_stat             object\n",
      " 4   mode               object\n",
      " 5   speed              object\n",
      " 6   mileage            object\n",
      " 7   t_volt             object\n",
      " 8   t_current          object\n",
      " 9   soc                object\n",
      " 10  dcdc_stat          object\n",
      " 11  isulate_r          object\n",
      " 12  ap_stroke          object\n",
      " 13  bp_stroke          object\n",
      " 14  gear               object\n",
      " 15  brake_stat         object\n",
      " 16  power_stat         object\n",
      " 17  district           object\n",
      " 18  city               object\n",
      " 19  province           object\n",
      " 20  max_volt_bat_id    object\n",
      " 21  max_volt_cell_id   object\n",
      " 22  max_cell_volt      object\n",
      " 23  min_volt_bat_id    object\n",
      " 24  min_cell_volt_id   object\n",
      " 25  min_cell_volt      object\n",
      " 26  max_temp_sys_id    object\n",
      " 27  max_temp_probe_id  object\n",
      " 28  max_temp           object\n",
      " 29  min_temp_sys_id    object\n",
      " 30  min_temp_probe_id  object\n",
      " 31  min_temp           object\n",
      " 32  max_alarm_lvl      object\n",
      " 33  genral_alarm       object\n",
      " 34  motor_nu           object\n",
      "dtypes: object(35)\n",
      "memory usage: 538.5+ MB\n"
     ]
    }
   ],
   "source": [
    "df_cleaned = df_cleaned.sort_values(by=['vid','daq_time'])  \n",
    "df_cleaned = df_cleaned.reset_index(drop=True) #reset index while not remaining original index as a column\n",
    "df_cleaned.info()\n",
    "\n",
    "\n",
    "\n"
   ]
  }
 ],
 "metadata": {
  "kernelspec": {
   "display_name": "mypython",
   "language": "python",
   "name": "python3"
  },
  "language_info": {
   "codemirror_mode": {
    "name": "ipython",
    "version": 3
   },
   "file_extension": ".py",
   "mimetype": "text/x-python",
   "name": "python",
   "nbconvert_exporter": "python",
   "pygments_lexer": "ipython3",
   "version": "3.12.3"
  }
 },
 "nbformat": 4,
 "nbformat_minor": 2
}
